{
 "cells": [
  {
   "cell_type": "code",
   "execution_count": 2,
   "metadata": {},
   "outputs": [
    {
     "name": "stdout",
     "output_type": "stream",
     "text": [
      "[Document(page_content='hello my name is montu', metadata={'source': 'try.txt'})]\n"
     ]
    }
   ],
   "source": [
    "## Data ingestion\n",
    "from langchain_community.document_loaders import TextLoader\n",
    "\n",
    "name = TextLoader(\"try.txt\")\n",
    "nameText = name.load()\n",
    "print(nameText)"
   ]
  },
  {
   "cell_type": "code",
   "execution_count": 3,
   "metadata": {},
   "outputs": [],
   "source": [
    "import os \n",
    "from dotenv import load_dotenv\n",
    "load_dotenv()\n",
    "\n",
    "os.environ[\"OPENAI_API_KEY\"]=os.getenv(\"OPENAI_API_KEY\")"
   ]
  },
  {
   "cell_type": "code",
   "execution_count": 4,
   "metadata": {},
   "outputs": [
    {
     "ename": "NameError",
     "evalue": "name 'WebBaseLoader' is not defined",
     "output_type": "error",
     "traceback": [
      "\u001b[0;31m---------------------------------------------------------------------------\u001b[0m",
      "\u001b[0;31mNameError\u001b[0m                                 Traceback (most recent call last)",
      "Cell \u001b[0;32mIn[4], line 4\u001b[0m\n\u001b[1;32m      1\u001b[0m \u001b[38;5;28;01mfrom\u001b[39;00m \u001b[38;5;21;01mlangchain_community\u001b[39;00m\u001b[38;5;21;01m.\u001b[39;00m\u001b[38;5;21;01mdocument_loaders\u001b[39;00m \u001b[38;5;28;01mimport\u001b[39;00m PyPDFLoader\n\u001b[1;32m      2\u001b[0m \u001b[38;5;28;01mimport\u001b[39;00m \u001b[38;5;21;01mbs4\u001b[39;00m\n\u001b[0;32m----> 4\u001b[0m loader \u001b[38;5;241m=\u001b[39m \u001b[43mWebBaseLoader\u001b[49m(\u001b[38;5;124m'\u001b[39m\u001b[38;5;124mhttps://ai.meta.com/blog/meta-llama-3/\u001b[39m\u001b[38;5;124m'\u001b[39m)\n",
      "\u001b[0;31mNameError\u001b[0m: name 'WebBaseLoader' is not defined"
     ]
    }
   ],
   "source": [
    "from langchain_community.document_loaders import PyPDFLoader\n",
    "import bs4\n",
    "\n",
    "loader = WebBaseLoader('https://ai.meta.com/blog/meta-llama-3/')"
   ]
  },
  {
   "cell_type": "code",
   "execution_count": 7,
   "metadata": {},
   "outputs": [],
   "source": [
    "from langchain_community.document_loaders import PyPDFLoader\n",
    "import bs4\n",
    "\n",
    "loader = PyPDFLoader('dibbi.pdf')\n",
    "docs = loader.load()\n",
    "# loader = WebBaseLoader('https://ai.meta.com/blog/meta-llama-3/')"
   ]
  },
  {
   "cell_type": "code",
   "execution_count": 8,
   "metadata": {},
   "outputs": [
    {
     "data": {
      "text/plain": [
       "[Document(page_content='3251 Riverport Lane\\nSt. Louis, Missouri 63043\\nTHE CLINICIAN’S HANDBOOK OF NATURAL MEDICINE,  \\nTHIRD EDITION  ISBN: 978-0-7020-5514-0\\nCopyright © 2016 by Elsevier, Inc. All rights reserved.No part of this publication may be reproduced or transmitted in any form or by any means, \\nelectronic or mechanical, including photocopying, recording, or any information storage and \\nretrieval system, without permission in writing from the publisher. Details on how to seek \\npermission, further information about the Publisher’s permissions policies and our arrange -\\nments with organizations such as the Copyright Clearance Center and the Copyright Licens -\\ning Agency, can be found at our website: www.elsevier.com/permissions.\\nThis book and the individual contributions contained in it are protected under copyright \\nby the Publisher (other than as may be noted herein).\\nNotices', metadata={'source': 'dibbi.pdf', 'page': 0}),\n",
       " Document(page_content='This book and the individual contributions contained in it are protected under copyright \\nby the Publisher (other than as may be noted herein).\\nNotices\\nKnowledge and best practice in this field are constantly changing. As new research and experience broaden our understanding, changes in research methods, professional prac-tices, or medical treatment may become necessary.\\nPractitioners and researchers must always rely on their own experience and knowledge \\nin evaluating and using any information, methods, compounds, or experiments described herein. In using such information or methods they should be mindful of their own safety and the safety of others, including parties for whom they have a professional responsibility.\\nWith respect to any drug or pharmaceutical products identified, readers are advised to \\ncheck the most current information provided (i) on procedures featured or (ii) by the  \\nmanufacturer of each product to be administered, to verify the recommended dose or', metadata={'source': 'dibbi.pdf', 'page': 0}),\n",
       " Document(page_content='check the most current information provided (i) on procedures featured or (ii) by the  \\nmanufacturer of each product to be administered, to verify the recommended dose or  \\nformula, the method and duration of administration, and contraindications. It is the  \\nresponsibility of practitioners, relying on their own experience and knowledge of their  \\npatients, to make diagnoses, to determine dosages and the best treatment for each  \\nindividual patient, and to take all appropriate safety precautions.\\nTo the fullest extent of the law, neither the Publisher nor the authors, contributors, or \\neditors, assume any liability for any injury and/or damage to persons or property as a matter of products liability, negligence or otherwise, or from any use or operation of any methods, products, instructions, or ideas contained in the material herein.\\nPrevious editions copyrighted 2008 and 2002.\\nLibrary of Congress Cataloging-in-Publication Data\\nPizzorno, Joseph E., Jr., author.', metadata={'source': 'dibbi.pdf', 'page': 0}),\n",
       " Document(page_content='Previous editions copyrighted 2008 and 2002.\\nLibrary of Congress Cataloging-in-Publication Data\\nPizzorno, Joseph E., Jr., author.\\n  The clinician’s handbook of natural medicine / Joseph E. Pizzorno, Jr., Michael T. Murray, \\nHerb Joiner-Bey. — Third edition.    p. ; cm.  Includes index.  ISBN 978-0-7020-5514-0 (pbk.)  I. Murray, Michael T., author. II. Joiner-Bey, Herb, author. III. Title.  [DNLM: 1. Naturopathy—Handbooks. WB 39]\\n  RZ440\\n  615.5’35—dc23                                                            2015025026\\nContent Strategist: Shelly Stringer\\nContent Development Manager: Jolynn Gower\\nContent Coordinator:\\n Rachel Allen  \\nPublishing Services Manager: Jeff Patterson Project Manager:\\n Lisa A. P . Bushey  \\nDesigner:  Ashley Miner   \\n  \\nPrinted in the United States of America.  \\nLast digit is the print number:  9  8  7  6  5  4  3  2  1', metadata={'source': 'dibbi.pdf', 'page': 0}),\n",
       " Document(page_content='1Acne Vulgaris and Acne \\nConglobata\\nDIAGNOSTIC SUMMARY\\n•\\t Open\\tcomedones: \\tdilated \\tfollicles \\twith \\tcentral \\tdark, \\thorny \\t\\nplugs\\t(blackheads)\\n•\\t Closed \\tcomedones: \\tsmall \\tfollicular \\tpapules \\twith \\t(r ed \\tpapules) \\t\\nor\\twithout \\t(whiteheads) \\tinflammatory \\tchanges\\n•\\t Superficial \\tpustules: \\tcollections \\tof \\tpus \\tat \\tfollicular \\topening\\n•\\t Nodules: \\ttender \\tcollections \\tof \\tpus \\tdeep \\tin \\tdermis\\n•\\t Cysts: \\tnodules \\tthat \\tfail \\tto \\tdischar ge \\tcontents \\tto \\tthe \\tsurface\\n•\\t Large, \\tdeep \\tpustules: \\tnodules \\tthat \\tbr eak \\tdown \\tadjacent \\ttissue, \\t\\nleading to scars\\nGENERAL CONSIDERATIONS\\nMost\\tcommon \\tskin \\tpr oblem. \\tA\\tkey \\tfactor \\tis \\tgenetics; \\tacne \\tis \\tinher -\\nited\\tautosomal \\tdominant \\tpattern \\twith \\tincomplete \\tpenetrance. \\tIf \\t\\nboth\\tpar ents \\thad \\tacne, \\tthr ee \\tof \\tfour \\tchildr en \\twill \\thave \\tacne. \\tIf \\tone \\t\\nparent\\thad \\tacne, \\tthen \\tone \\tof \\tfour \\tchildr en \\twill \\thave \\tacne. \\tLesions \\t\\nare\\tmainly \\ton \\tthe \\tface, \\tbut \\talso \\tback, \\tchest, \\tand \\tshoulders. \\tMor e', metadata={'source': 'dibbi.pdf', 'page': 1})]"
      ]
     },
     "execution_count": 8,
     "metadata": {},
     "output_type": "execute_result"
    }
   ],
   "source": [
    "from langchain.text_splitter import RecursiveCharacterTextSplitter\n",
    "\n",
    "textSpliter = RecursiveCharacterTextSplitter(chunk_size=1000, chunk_overlap=200)\n",
    "document = textSpliter.split_documents(docs)\n",
    "document[:5]"
   ]
  },
  {
   "cell_type": "code",
   "execution_count": 9,
   "metadata": {},
   "outputs": [
    {
     "name": "stderr",
     "output_type": "stream",
     "text": [
      "/Users/prasannabisen/opt/anaconda3/envs/llm/lib/python3.11/site-packages/langchain_core/_api/deprecation.py:119: LangChainDeprecationWarning: The class `OpenAIEmbeddings` was deprecated in LangChain 0.0.9 and will be removed in 0.2.0. An updated version of the class exists in the langchain-openai package and should be used instead. To use it run `pip install -U langchain-openai` and import as `from langchain_openai import OpenAIEmbeddings`.\n",
      "  warn_deprecated(\n"
     ]
    }
   ],
   "source": [
    "## Vector embiding and Vector store\n",
    "\n",
    "from langchain_community.embeddings import OpenAIEmbeddings\n",
    "from langchain_community.vectorstores import Chroma\n",
    "\n",
    "db=Chroma.from_documents(document[:50],OpenAIEmbeddings())"
   ]
  },
  {
   "cell_type": "code",
   "execution_count": 10,
   "metadata": {},
   "outputs": [
    {
     "data": {
      "text/plain": [
       "<langchain_community.vectorstores.chroma.Chroma at 0x12c404b10>"
      ]
     },
     "execution_count": 10,
     "metadata": {},
     "output_type": "execute_result"
    }
   ],
   "source": [
    "db"
   ]
  },
  {
   "cell_type": "code",
   "execution_count": 11,
   "metadata": {},
   "outputs": [
    {
     "data": {
      "text/plain": [
       "[Document(page_content='This book and the individual contributions contained in it are protected under copyright \\nby the Publisher (other than as may be noted herein).\\nNotices\\nKnowledge and best practice in this field are constantly changing. As new research and experience broaden our understanding, changes in research methods, professional prac-tices, or medical treatment may become necessary.\\nPractitioners and researchers must always rely on their own experience and knowledge \\nin evaluating and using any information, methods, compounds, or experiments described herein. In using such information or methods they should be mindful of their own safety and the safety of others, including parties for whom they have a professional responsibility.\\nWith respect to any drug or pharmaceutical products identified, readers are advised to \\ncheck the most current information provided (i) on procedures featured or (ii) by the  \\nmanufacturer of each product to be administered, to verify the recommended dose or', metadata={'page': 0, 'source': 'dibbi.pdf'}),\n",
       " Document(page_content='check the most current information provided (i) on procedures featured or (ii) by the  \\nmanufacturer of each product to be administered, to verify the recommended dose or  \\nformula, the method and duration of administration, and contraindications. It is the  \\nresponsibility of practitioners, relying on their own experience and knowledge of their  \\npatients, to make diagnoses, to determine dosages and the best treatment for each  \\nindividual patient, and to take all appropriate safety precautions.\\nTo the fullest extent of the law, neither the Publisher nor the authors, contributors, or \\neditors, assume any liability for any injury and/or damage to persons or property as a matter of products liability, negligence or otherwise, or from any use or operation of any methods, products, instructions, or ideas contained in the material herein.\\nPrevious editions copyrighted 2008 and 2002.\\nLibrary of Congress Cataloging-in-Publication Data\\nPizzorno, Joseph E., Jr., author.', metadata={'page': 0, 'source': 'dibbi.pdf'}),\n",
       " Document(page_content='Previous editions copyrighted 2008 and 2002.\\nLibrary of Congress Cataloging-in-Publication Data\\nPizzorno, Joseph E., Jr., author.\\n  The clinician’s handbook of natural medicine / Joseph E. Pizzorno, Jr., Michael T. Murray, \\nHerb Joiner-Bey. — Third edition.    p. ; cm.  Includes index.  ISBN 978-0-7020-5514-0 (pbk.)  I. Murray, Michael T., author. II. Joiner-Bey, Herb, author. III. Title.  [DNLM: 1. Naturopathy—Handbooks. WB 39]\\n  RZ440\\n  615.5’35—dc23                                                            2015025026\\nContent Strategist: Shelly Stringer\\nContent Development Manager: Jolynn Gower\\nContent Coordinator:\\n Rachel Allen  \\nPublishing Services Manager: Jeff Patterson Project Manager:\\n Lisa A. P . Bushey  \\nDesigner:  Ashley Miner   \\n  \\nPrinted in the United States of America.  \\nLast digit is the print number:  9  8  7  6  5  4  3  2  1', metadata={'page': 0, 'source': 'dibbi.pdf'}),\n",
       " Document(page_content='3251 Riverport Lane\\nSt. Louis, Missouri 63043\\nTHE CLINICIAN’S HANDBOOK OF NATURAL MEDICINE,  \\nTHIRD EDITION  ISBN: 978-0-7020-5514-0\\nCopyright © 2016 by Elsevier, Inc. All rights reserved.No part of this publication may be reproduced or transmitted in any form or by any means, \\nelectronic or mechanical, including photocopying, recording, or any information storage and \\nretrieval system, without permission in writing from the publisher. Details on how to seek \\npermission, further information about the Publisher’s permissions policies and our arrange -\\nments with organizations such as the Copyright Clearance Center and the Copyright Licens -\\ning Agency, can be found at our website: www.elsevier.com/permissions.\\nThis book and the individual contributions contained in it are protected under copyright \\nby the Publisher (other than as may be noted herein).\\nNotices', metadata={'page': 0, 'source': 'dibbi.pdf'})]"
      ]
     },
     "execution_count": 11,
     "metadata": {},
     "output_type": "execute_result"
    }
   ],
   "source": [
    "query = \"Give me a breify about this pdf.\"\n",
    "result = db.similarity_search(query)\n",
    "result"
   ]
  },
  {
   "cell_type": "code",
   "execution_count": 12,
   "metadata": {},
   "outputs": [],
   "source": [
    "from langchain_community.llms import Ollama\n",
    "llm = Ollama(model=\"llama3\")"
   ]
  },
  {
   "cell_type": "code",
   "execution_count": 13,
   "metadata": {},
   "outputs": [],
   "source": [
    "from langchain_core.prompts import ChatPromptTemplate\n",
    "prompt = ChatPromptTemplate.from_template(\"\"\"\n",
    "                                          Answer the question as per the provided content\n",
    "                                          Think step by step before giving answer\n",
    "                                          <context>\n",
    "                                          {context}\n",
    "                                          </context>\n",
    "                                          Question: {input}\"\"\")"
   ]
  },
  {
   "cell_type": "code",
   "execution_count": null,
   "metadata": {},
   "outputs": [],
   "source": []
  }
 ],
 "metadata": {
  "kernelspec": {
   "display_name": "llm",
   "language": "python",
   "name": "python3"
  },
  "language_info": {
   "codemirror_mode": {
    "name": "ipython",
    "version": 3
   },
   "file_extension": ".py",
   "mimetype": "text/x-python",
   "name": "python",
   "nbconvert_exporter": "python",
   "pygments_lexer": "ipython3",
   "version": "3.11.9"
  }
 },
 "nbformat": 4,
 "nbformat_minor": 2
}

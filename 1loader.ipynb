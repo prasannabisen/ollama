{
 "cells": [
  {
   "cell_type": "code",
   "execution_count": 1,
   "metadata": {},
   "outputs": [],
   "source": [
    "#STEPS\n",
    "\n",
    "# LOAD->TRANSFORM->EMBEDDING->STORE->CHAIN->RETRIVER\n",
    "import os \n",
    "os.environ[\"LANGCHAIN_API_KEY\"]=os.getenv(\"LANGCHAIN_API_KEY\")\n",
    "os.environ[\"OPENAI_API_KEY\"]=os.getenv(\"OPENAI_API_KEY\")\n",
    "os.environ[\"LANGCHAIN_TRACING_V2\"]=\"true\""
   ]
  },
  {
   "cell_type": "code",
   "execution_count": 2,
   "metadata": {},
   "outputs": [],
   "source": [
    "# LOAD\n",
    "# to import pdf\n",
    "from langchain.document_loaders import PyPDFLoader\n",
    "\n",
    "loader = PyPDFLoader(\"Vehicle Finance.pdf\")\n",
    "# data = loader.load_and_split()\n",
    "dataLoad = loader.load()"
   ]
  },
  {
   "cell_type": "code",
   "execution_count": 4,
   "metadata": {},
   "outputs": [],
   "source": [
    "# TRANSFORM\n",
    "# a) spliter\n",
    "from langchain.text_splitter import RecursiveCharacterTextSplitter\n",
    "\n",
    "text_spliter = RecursiveCharacterTextSplitter()\n",
    "text = text_spliter.split_documents(dataLoad)\n"
   ]
  },
  {
   "cell_type": "code",
   "execution_count": 15,
   "metadata": {},
   "outputs": [],
   "source": [
    "# from langchain_openai import OpenAIEmbeddings\n",
    "# from langchain_objectbox import ObjectBox\n",
    "# vector = ObjectBox.from_documents(text, OpenAIEmbeddings(), embedding_dimensions=763)\n",
    "# # vector"
   ]
  },
  {
   "cell_type": "code",
   "execution_count": 5,
   "metadata": {},
   "outputs": [
    {
     "name": "stderr",
     "output_type": "stream",
     "text": [
      "/Users/prasannabisen/opt/anaconda3/envs/llm/lib/python3.11/site-packages/langchain_core/_api/deprecation.py:119: LangChainDeprecationWarning: The class `OpenAIEmbeddings` was deprecated in LangChain 0.0.9 and will be removed in 0.3.0. An updated version of the class exists in the langchain-openai package and should be used instead. To use it run `pip install -U langchain-openai` and import as `from langchain_openai import OpenAIEmbeddings`.\n",
      "  warn_deprecated(\n"
     ]
    }
   ],
   "source": [
    "from langchain_community.embeddings import OpenAIEmbeddings\n",
    "from langchain_community.vectorstores import Chroma\n",
    "db = Chroma.from_documents(text, OpenAIEmbeddings(), persist_directory=\"Rupyy\")"
   ]
  },
  {
   "cell_type": "code",
   "execution_count": 6,
   "metadata": {},
   "outputs": [
    {
     "data": {
      "text/plain": [
       "<langchain_community.vectorstores.chroma.Chroma at 0x12d192450>"
      ]
     },
     "execution_count": 6,
     "metadata": {},
     "output_type": "execute_result"
    }
   ],
   "source": [
    "db"
   ]
  },
  {
   "cell_type": "code",
   "execution_count": 18,
   "metadata": {},
   "outputs": [
    {
     "data": {
      "text/plain": [
       "Ollama(model='llama3')"
      ]
     },
     "execution_count": 18,
     "metadata": {},
     "output_type": "execute_result"
    }
   ],
   "source": [
    "from langchain_community.llms import Ollama\n",
    "llm = Ollama(model=\"llama3\")\n",
    "llm"
   ]
  },
  {
   "cell_type": "code",
   "execution_count": 26,
   "metadata": {},
   "outputs": [],
   "source": [
    "#propmpts\n",
    "from langchain_core.prompts import ChatPromptTemplate\n",
    "prompt = ChatPromptTemplate.from_template('''Answer the following question only on context provided and give detailed answer and also references of the answer\n",
    "                                          <context>\n",
    "                                          {context}\n",
    "                                          </context>\n",
    "                                          Question:{input}\n",
    "''')"
   ]
  },
  {
   "cell_type": "code",
   "execution_count": 20,
   "metadata": {},
   "outputs": [],
   "source": [
    "# chain\n",
    "from langchain.chains.combine_documents import create_stuff_documents_chain\n",
    "document_chain=create_stuff_documents_chain(llm, prompt)"
   ]
  },
  {
   "cell_type": "code",
   "execution_count": 21,
   "metadata": {},
   "outputs": [
    {
     "data": {
      "text/plain": [
       "VectorStoreRetriever(tags=['Chroma', 'OpenAIEmbeddings'], vectorstore=<langchain_community.vectorstores.chroma.Chroma object at 0x132dbb850>)"
      ]
     },
     "execution_count": 21,
     "metadata": {},
     "output_type": "execute_result"
    }
   ],
   "source": [
    "retriver = db.as_retriever()\n",
    "retriver"
   ]
  },
  {
   "cell_type": "code",
   "execution_count": 22,
   "metadata": {},
   "outputs": [],
   "source": [
    "# retriver chain\n",
    "from langchain.chains import create_retrieval_chain\n",
    "retrival_chain = create_retrieval_chain(retriver, document_chain)"
   ]
  },
  {
   "cell_type": "code",
   "execution_count": 23,
   "metadata": {},
   "outputs": [],
   "source": [
    "response=retrival_chain.invoke({\"input\":\"what will allha do i i love some one and marry someone else\"})"
   ]
  },
  {
   "cell_type": "code",
   "execution_count": 24,
   "metadata": {},
   "outputs": [
    {
     "data": {
      "text/plain": [
       "{'input': 'what will allha do i i love some one and marry someone else',\n",
       " 'context': [Document(page_content=\"4.  WOMEN   (an-Nisa’)  \\nchange to the dowry. Allah is All -Knowing, \\nMost Wise.  \\n25. If any of you lack the means to marry free \\nbelieving women, he may marry one of the \\nbelieving maids under your control. Allah is \\nwell aware of your faith. You are from one \\nanother. Marry them with the permission of their guardians, and give them their recom-pense fairly —to be protected —neither com-\\nmitting adultery, nor taking secret lovers. When they are married, if they commit adul-\\ntery, their punishment shall be half that of \\nfree women. That is for those among you who \\nfear falling into decadence. But to practice \\nself-restraint is better fo r you. Allah is Most \\nForgiving, Most Merciful.  \\n26. Allah intends to make things clear to you, \\nand to guide you in the ways of those before you, and to redeem you. Allah is Most Know-\\ning, Most Wise.  \\n27. Allah intends to redeem you, but those \\nwho follow their  desires want you to turn \\naway utterly.  \\n28. Allah intends to lighten your burden, for \\nthe human being was created weak.  \\n29. O you who believe! Do not consume each \\nother’s wealth illicitly, but trade by mutual \\nconsent. And do not kill yourselves, for Allah \\nis Merciful towards you.  \\n30. Whoever does that, out of hostility and \\nwrongdoing, We will cast him into a Fire. \\nAnd that would be easy for Allah.  \\n31. If you avoid the worst of what you are for-\\nbidden, We will remit your sins, and admit \\nyou by a Gate of Honor . \\n32. Do not covet what Allah has given to some \\nof you in preference to others. For men is a \\nshare of what they have earned, and for \\nwomen is a share of what they have earned. \\nAnd ask Allah of his bounty. Allah has \\nknowledge of everything.  \\n33. To everyone We have assigned beneficiar-\\nies in what is left by parents and relatives. \\nThose with whom you have made an agree-\\nment, give them their share. Allah is Witness \\nover all things.  34. Men are the protectors and maintainers of \\nwomen, as Allah has given some of th em an \\nadvantage over others, and because they \\nspend out of their wealth. The good women \\nare obedient, guarding what Allah would \\nhave them guard. As for those from whom \\nyou fear disloyalty, admonish them, and \\nabandon them in their beds, then strike them. \\nBut if they obey you, seek no way against \\nthem. Allah is Sublime, Great.  \\n35. If you fear a breach between the two, ap-\\npoint an arbiter from his family and an arbi-ter from her family. If they wish to reconcile, \\nAllah will bring them together. Allah is \\nKnowledgeable, Expert.  \\n36. Worship Allah, and ascribe no partners to \\nHim, and be good to the parents, and the rel-\\natives, and the orphans, and the poor, and the neighbor next door, and the distant neighbor, \\nand the close associate, and the traveler, and \\nyour servan ts. Allah does not love the arro-\\ngant showoff.  \\n37. Those who are stingy, and exhort people to \\nstinginess, and conceal what Allah has given them from His bounty. We have prepared for \\nthe disbelievers a disgraceful punishment.  \\n38. And those who spend their money to be \\nseen by people, and believe neither in Allah \\nnor in the Last Day. Whoever has Satan as a companion —what an evil companion.  \\n39. What would they have lost, had they be-\\nlieved in Allah and the Last Day, and gave out \\nof what Allah has provided for the m? Allah \\nknows them very well.  \\n40. Allah does not commit an atom's weight of \\ninjustice; and if there is a good deed, He dou-bles it, and gives from His Presence a sublime \\ncompensation.  \\n41. Then how will it be, when We bring a wit-\\nness from every community, and We bring you as a witness against these?  \\n42. On that Day, those who disbelieved and \\ndisobeyed the Messenger will wish that the \\nearth were leveled over them. They will con-\\nceal nothing from Allah.  \\n29\", metadata={'page': 27, 'source': 'quran.pdf'}),\n",
       "  Document(page_content=\"4.  WOMEN   (an-Nisa’)  \\nchange to the dowry. Allah is All -Knowing, \\nMost Wise.  \\n25. If any of you lack the means to marry free \\nbelieving women, he may marry one of the \\nbelieving maids under your control. Allah is \\nwell aware of your faith. You are from one \\nanother. Marry them with the permission of their guardians, and give them their recom-pense fairly —to be protected —neither com-\\nmitting adultery, nor taking secret lovers. When they are married, if they commit adul-\\ntery, their punishment shall be half that of \\nfree women. That is for those among you who \\nfear falling into decadence. But to practice \\nself-restraint is better fo r you. Allah is Most \\nForgiving, Most Merciful.  \\n26. Allah intends to make things clear to you, \\nand to guide you in the ways of those before you, and to redeem you. Allah is Most Know-\\ning, Most Wise.  \\n27. Allah intends to redeem you, but those \\nwho follow their  desires want you to turn \\naway utterly.  \\n28. Allah intends to lighten your burden, for \\nthe human being was created weak.  \\n29. O you who believe! Do not consume each \\nother’s wealth illicitly, but trade by mutual \\nconsent. And do not kill yourselves, for Allah \\nis Merciful towards you.  \\n30. Whoever does that, out of hostility and \\nwrongdoing, We will cast him into a Fire. \\nAnd that would be easy for Allah.  \\n31. If you avoid the worst of what you are for-\\nbidden, We will remit your sins, and admit \\nyou by a Gate of Honor . \\n32. Do not covet what Allah has given to some \\nof you in preference to others. For men is a \\nshare of what they have earned, and for \\nwomen is a share of what they have earned. \\nAnd ask Allah of his bounty. Allah has \\nknowledge of everything.  \\n33. To everyone We have assigned beneficiar-\\nies in what is left by parents and relatives. \\nThose with whom you have made an agree-\\nment, give them their share. Allah is Witness \\nover all things.  34. Men are the protectors and maintainers of \\nwomen, as Allah has given some of th em an \\nadvantage over others, and because they \\nspend out of their wealth. The good women \\nare obedient, guarding what Allah would \\nhave them guard. As for those from whom \\nyou fear disloyalty, admonish them, and \\nabandon them in their beds, then strike them. \\nBut if they obey you, seek no way against \\nthem. Allah is Sublime, Great.  \\n35. If you fear a breach between the two, ap-\\npoint an arbiter from his family and an arbi-ter from her family. If they wish to reconcile, \\nAllah will bring them together. Allah is \\nKnowledgeable, Expert.  \\n36. Worship Allah, and ascribe no partners to \\nHim, and be good to the parents, and the rel-\\natives, and the orphans, and the poor, and the neighbor next door, and the distant neighbor, \\nand the close associate, and the traveler, and \\nyour servan ts. Allah does not love the arro-\\ngant showoff.  \\n37. Those who are stingy, and exhort people to \\nstinginess, and conceal what Allah has given them from His bounty. We have prepared for \\nthe disbelievers a disgraceful punishment.  \\n38. And those who spend their money to be \\nseen by people, and believe neither in Allah \\nnor in the Last Day. Whoever has Satan as a companion —what an evil companion.  \\n39. What would they have lost, had they be-\\nlieved in Allah and the Last Day, and gave out \\nof what Allah has provided for the m? Allah \\nknows them very well.  \\n40. Allah does not commit an atom's weight of \\ninjustice; and if there is a good deed, He dou-bles it, and gives from His Presence a sublime \\ncompensation.  \\n41. Then how will it be, when We bring a wit-\\nness from every community, and We bring you as a witness against these?  \\n42. On that Day, those who disbelieved and \\ndisobeyed the Messenger will wish that the \\nearth were leveled over them. They will con-\\nceal nothing from Allah.  \\n29\", metadata={'page': 27, 'source': 'quran.pdf'}),\n",
       "  Document(page_content=\"4.  WOMEN   (an-Nisa’)  \\nchange to the dowry. Allah is All -Knowing, \\nMost Wise.  \\n25. If any of you lack the means to marry free \\nbelieving women, he may marry one of the \\nbelieving maids under your control. Allah is \\nwell aware of your faith. You are from one \\nanother. Marry them with the permission of their guardians, and give them their recom-pense fairly —to be protected —neither com-\\nmitting adultery, nor taking secret lovers. When they are married, if they commit adul-\\ntery, their punishment shall be half that of \\nfree women. That is for those among you who \\nfear falling into decadence. But to practice \\nself-restraint is better fo r you. Allah is Most \\nForgiving, Most Merciful.  \\n26. Allah intends to make things clear to you, \\nand to guide you in the ways of those before you, and to redeem you. Allah is Most Know-\\ning, Most Wise.  \\n27. Allah intends to redeem you, but those \\nwho follow their  desires want you to turn \\naway utterly.  \\n28. Allah intends to lighten your burden, for \\nthe human being was created weak.  \\n29. O you who believe! Do not consume each \\nother’s wealth illicitly, but trade by mutual \\nconsent. And do not kill yourselves, for Allah \\nis Merciful towards you.  \\n30. Whoever does that, out of hostility and \\nwrongdoing, We will cast him into a Fire. \\nAnd that would be easy for Allah.  \\n31. If you avoid the worst of what you are for-\\nbidden, We will remit your sins, and admit \\nyou by a Gate of Honor . \\n32. Do not covet what Allah has given to some \\nof you in preference to others. For men is a \\nshare of what they have earned, and for \\nwomen is a share of what they have earned. \\nAnd ask Allah of his bounty. Allah has \\nknowledge of everything.  \\n33. To everyone We have assigned beneficiar-\\nies in what is left by parents and relatives. \\nThose with whom you have made an agree-\\nment, give them their share. Allah is Witness \\nover all things.  34. Men are the protectors and maintainers of \\nwomen, as Allah has given some of th em an \\nadvantage over others, and because they \\nspend out of their wealth. The good women \\nare obedient, guarding what Allah would \\nhave them guard. As for those from whom \\nyou fear disloyalty, admonish them, and \\nabandon them in their beds, then strike them. \\nBut if they obey you, seek no way against \\nthem. Allah is Sublime, Great.  \\n35. If you fear a breach between the two, ap-\\npoint an arbiter from his family and an arbi-ter from her family. If they wish to reconcile, \\nAllah will bring them together. Allah is \\nKnowledgeable, Expert.  \\n36. Worship Allah, and ascribe no partners to \\nHim, and be good to the parents, and the rel-\\natives, and the orphans, and the poor, and the neighbor next door, and the distant neighbor, \\nand the close associate, and the traveler, and \\nyour servan ts. Allah does not love the arro-\\ngant showoff.  \\n37. Those who are stingy, and exhort people to \\nstinginess, and conceal what Allah has given them from His bounty. We have prepared for \\nthe disbelievers a disgraceful punishment.  \\n38. And those who spend their money to be \\nseen by people, and believe neither in Allah \\nnor in the Last Day. Whoever has Satan as a companion —what an evil companion.  \\n39. What would they have lost, had they be-\\nlieved in Allah and the Last Day, and gave out \\nof what Allah has provided for the m? Allah \\nknows them very well.  \\n40. Allah does not commit an atom's weight of \\ninjustice; and if there is a good deed, He dou-bles it, and gives from His Presence a sublime \\ncompensation.  \\n41. Then how will it be, when We bring a wit-\\nness from every community, and We bring you as a witness against these?  \\n42. On that Day, those who disbelieved and \\ndisobeyed the Messenger will wish that the \\nearth were leveled over them. They will con-\\nceal nothing from Allah.  \\n29\", metadata={'page': 27, 'source': 'quran.pdf'}),\n",
       "  Document(page_content='65.  DIVORCE   (at-Talaq)  \\n17. If you lend Allah a good  loan, He will mul-\\ntiply it for you, and will forgive you. Allah is \\nAppreciative and Forbearing.  \\n18. The Knower of the Unseen and the Seen, \\nthe Almighty, the Wise.  \\n  \\n65. DIVORCE  \\n(at-Talaq ) \\nIn the name of Allah,  \\nthe Gracious, the Merciful  \\n1. O Prophet! If any of you divorce women, di-\\nvorce them during their period of purity, and \\ncalculate their term. And be pious before Al-\\nlah, your Lord. And do not evict them from \\ntheir homes, nor shall they leave, unless they \\nhave committed a proven adultery. These are \\nthe limits of Allah —whoever oversteps Al-\\nlah’s limits has wronged his own soul. You \\nnever know; Allah may afterwards bring \\nabout a new situation.  \\n2. Once they have reached their term, either \\nretain them honorably, or separate from them honorably. And call to wi tness two just \\npeople from among you, and give upright tes-timony for Allah. By that is exhorted whoever \\nbelieves in Allah and the Last Day. And who-\\never fears Allah —He will make a way out for \\nhim.  \\n3. And will provide for him from where he \\nnever expected. Wh oever relies on Allah —\\nHe will suffice him. Allah will accomplish His \\npurpose. Allah has set a measure to all things.  \\n4. As for those of your women who have \\nreached menopause, if you have any doubts, \\ntheir term shall be three months —and also \\nfor those who have not menstruated. As for \\nthose who are pregnant, their term shall be \\nuntil they have delivered. Whoever fears Al-\\nlah—He will make things easy for him.  \\n5. This is the ordinance of Allah, which He \\nsent down to you. Whoever fears Allah— He \\nwill remit his sin s, and will amplify his re-\\nward.  \\n6. Allow them to reside where you reside, ac-\\ncording to your means, and do not harass them in order to make things difficult for \\nthem. If they are pregnant, spend on them \\nuntil they give birth. And if they nurse your \\ninfant, give them their payment. And con-\\nduct your relation in amity. But if you disa-gree, then let another woman nurse him.  \\n7. The wealthy shall spend according to his \\nmeans; and he whose resources are restricted \\nshall spend according to what Allah has given \\nhim. Allah never burdens a soul beyond what \\nHe has given it. Allah will bring ease after \\nhardship.  \\n8. How many a town defied the command of \\nits Lord and His messengers? So We held it \\nstrictly accountable, and We punished it with \\na dreadful punishment.  \\n9. It tas ted the result of its decisions, and the \\noutcome of its decisions was perdition.  \\n10. Allah has prepared for them a severe retri-\\nbution. So beware of Allah, O you who pos-\\nsess intellect and have faith. Allah has sent \\ndown to you a Reminder.  \\n11. A messenger who recites to you Allah’s \\nVerses, clear and distinct, that he may bring \\nthose who believe and work righteousness \\nfrom darkness into light. Whoever believes in \\nAllah and acts with integrity, He will admit \\nhim into gardens beneath which rivers flow, \\ntherein  to abide forever. Allah has given him \\nan excellent provision.  \\n12. Allah is He Who created seven heavens, \\nand their like of earth. The command de-\\nscends through them, so that you may know \\nthat Allah is Capable of everything, and that \\nAllah Encompasses every thing in knowledge.  \\n  \\n66. PROHIBITION  \\n(at-Tahrim ) \\nIn the name of Allah,  \\nthe Gracious, the Merciful  \\n1. O prophet! Why do you prohibit what Allah \\nhas permitted for you, seeking to please your \\nwives? Allah is Forgiving and Merciful.  \\n217', metadata={'page': 215, 'source': 'quran.pdf'})],\n",
       " 'answer': \"What a wonderful question!\\n\\nThe Quran speaks about the importance of love, loyalty, and commitment in relationships. In this case, you're asking what Allah (God) would do if you were to love someone but then choose to marry someone else.\\n\\nLet's take a closer look at the context:\\n\\n**Divorce (at-Talaq) - Surah 65:1-10**\\n\\nAllah has set out laws for divorce, encouraging Muslims to maintain good relationships and avoid unnecessary conflicts. In verse 1-2, Allah instructs Prophet Muhammad (peace be upon him) to divorce women during their purity period (menstruation) and calculate the term of the marriage. This emphasizes the importance of treating one's spouse with respect and honor.\\n\\n**Forbidden Things (at-Tahrim) - Surah 66:1-12**\\n\\nIn verse 11, Allah reminds Prophet Muhammad that He has sent down a Reminder (the Quran) to guide people toward righteousness and faith. This includes maintaining good relationships and avoiding harm to others.\\n\\nNow, let's apply these principles to your question:\\n\\n**What if you love someone but choose to marry someone else?**\\n\\nAllah is aware of human nature and understands the complexities of our emotions. If you were to love someone but choose to marry someone else, Allah would not judge you harshly. In fact, the Quran emphasizes the importance of forgiveness and mercy (Rahman and Rahim).\\n\\n**Injustice: Failing to prioritize love and commitment**\\n\\nIf you choose to marry someone else despite loving another person, that could be considered an injustice toward both individuals involved. It's essential to consider the feelings and well-being of those around you when making decisions.\\n\\n**Good deed: Prioritizing loyalty and commitment**\\n\\nOn the other hand, if you were to prioritize love and commitment in your relationships, Allah would appreciate your efforts to maintain good relationships and avoid harm to others. This includes treating all individuals involved with respect, kindness, and compassion.\\n\\nIn conclusion, while Allah would not judge you harshly for loving someone else, prioritizing loyalty and commitment in your relationships is a noble endeavor that reflects the values of compassion, empathy, and forgiveness.\\n\\nMay Allah guide us toward making wise decisions that prioritize love, loyalty, and harmony. ðŸ\\x8f\"}"
      ]
     },
     "execution_count": 24,
     "metadata": {},
     "output_type": "execute_result"
    }
   ],
   "source": [
    "response"
   ]
  },
  {
   "cell_type": "code",
   "execution_count": 3,
   "metadata": {},
   "outputs": [
    {
     "ename": "NameError",
     "evalue": "name 'Chroma' is not defined",
     "output_type": "error",
     "traceback": [
      "\u001b[0;31m---------------------------------------------------------------------------\u001b[0m",
      "\u001b[0;31mNameError\u001b[0m                                 Traceback (most recent call last)",
      "Cell \u001b[0;32mIn[3], line 1\u001b[0m\n\u001b[0;32m----> 1\u001b[0m kk \u001b[38;5;241m=\u001b[39m \u001b[43mChroma\u001b[49m(persist_directory\u001b[38;5;241m=\u001b[39m\u001b[38;5;124m\"\u001b[39m\u001b[38;5;124mdata\u001b[39m\u001b[38;5;124m\"\u001b[39m, embedding_function\u001b[38;5;241m=\u001b[39mOpenAIEmbeddings())\n\u001b[1;32m      2\u001b[0m kk\n",
      "\u001b[0;31mNameError\u001b[0m: name 'Chroma' is not defined"
     ]
    }
   ],
   "source": [
    "kk = Chroma(persist_directory=\"data\", embedding_function=OpenAIEmbeddings())\n",
    "kk"
   ]
  },
  {
   "cell_type": "code",
   "execution_count": 7,
   "metadata": {},
   "outputs": [
    {
     "name": "stderr",
     "output_type": "stream",
     "text": [
      "/Users/prasannabisen/opt/anaconda3/envs/llm/lib/python3.11/site-packages/langchain_core/_api/deprecation.py:119: LangChainDeprecationWarning: Since Chroma 0.4.x the manual persistence method is no longer supported as docs are automatically persisted.\n",
      "  warn_deprecated(\n"
     ]
    }
   ],
   "source": [
    "db = Chroma.from_documents(text, OpenAIEmbeddings(), persist_directory=\"DB\")\n",
    "db.persist()"
   ]
  },
  {
   "cell_type": "code",
   "execution_count": 11,
   "metadata": {},
   "outputs": [
    {
     "data": {
      "text/plain": [
       "<langchain_community.vectorstores.chroma.Chroma at 0x132f0fcd0>"
      ]
     },
     "execution_count": 11,
     "metadata": {},
     "output_type": "execute_result"
    }
   ],
   "source": [
    "kk=Chroma(persist_directory=\"DB\", embedding_function=OpenAIEmbeddings())\n",
    "kk"
   ]
  },
  {
   "cell_type": "code",
   "execution_count": null,
   "metadata": {},
   "outputs": [],
   "source": []
  }
 ],
 "metadata": {
  "kernelspec": {
   "display_name": "llm",
   "language": "python",
   "name": "python3"
  },
  "language_info": {
   "codemirror_mode": {
    "name": "ipython",
    "version": 3
   },
   "file_extension": ".py",
   "mimetype": "text/x-python",
   "name": "python",
   "nbconvert_exporter": "python",
   "pygments_lexer": "ipython3",
   "version": "3.11.9"
  }
 },
 "nbformat": 4,
 "nbformat_minor": 2
}
